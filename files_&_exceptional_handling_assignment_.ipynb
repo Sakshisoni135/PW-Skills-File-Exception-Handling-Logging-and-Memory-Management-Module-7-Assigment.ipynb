{
  "nbformat": 4,
  "nbformat_minor": 0,
  "metadata": {
    "colab": {
      "provenance": []
    },
    "kernelspec": {
      "name": "python3",
      "display_name": "Python 3"
    },
    "language_info": {
      "name": "python"
    }
  },
  "cells": [
    {
      "cell_type": "code",
      "execution_count": null,
      "metadata": {
        "id": "YxqvLhrNV-jv"
      },
      "outputs": [],
      "source": []
    },
    {
      "cell_type": "markdown",
      "source": [
        "1. What is the difference between interpreted and compiled languages ?"
      ],
      "metadata": {
        "id": "kqcMRbvPWCuc"
      }
    },
    {
      "cell_type": "markdown",
      "source": [
        "The key difference between interpreted and compiled languages lies in how they execute code:\n",
        "\n",
        "Interpreted Languages\n",
        "Execution Process: Code is executed line by line by an interpreter.\n",
        "Compilation Step: No separate compilation step; the code is directly run by the interpreter.\n",
        "Speed: Slower execution since translation happens on the fly.\n",
        "Error Handling: Errors are caught at runtime, making debugging potentially easier.\n",
        "Portability: Highly portable because the same code can run on any machine with the appropriate interpreter.\n",
        "Examples: Python, JavaScript, Ruby, PHP.\n",
        "Compiled Languages\n",
        "Execution Process: Code is first translated into machine code (binary) by a compiler, then the compiled program is executed.\n",
        "Compilation Step: Requires a separate compilation step before execution.\n",
        "Speed: Faster execution since the program runs as machine code.\n",
        "Error Handling: Errors are caught at compile-time, often resulting in fewer runtime issues.\n",
        "Portability: Less portable, as compiled code is platform-specific, though source code can be recompiled for different platforms.\n",
        "Examples: C, C++, Rust, Go."
      ],
      "metadata": {
        "id": "1xh5oljVV_xJ"
      }
    },
    {
      "cell_type": "markdown",
      "source": [
        "2 . What is exception handling in Python ?\n",
        "\n",
        "Exception handling in Python is a mechanism for managing runtime errors or exceptions that can disrupt the normal flow of a program. Instead of crashing, the program can gracefully handle the error and continue running.\n",
        "\n",
        "Key Components of Exception Handling in Python:\n",
        "\n",
        "1.try Block:\n",
        "\n",
        "Contains code that might raise an exception.\n",
        "If an exception occurs, Python skips the rest of the try block and moves to the except block.\n",
        "\n",
        "2.except Block:\n",
        "\n",
        "Catches and handles specific or general exceptions.\n",
        "You can specify the type of exception to handle.\n",
        "\n",
        "3.else Block (Optional):\n",
        "\n",
        "Executes if no exception occurs in the try block.\n",
        "\n",
        "4.finally Block (Optional):\n",
        "\n",
        "Contains code that runs regardless of whether an exception was raised or not.\n",
        "Often used for cleanup tasks (e.g., closing files or database connections).\n"
      ],
      "metadata": {
        "id": "wLiTuuaKXkjI"
      }
    },
    {
      "cell_type": "code",
      "source": [
        "def check_age(age):\n",
        "    if age < 18:\n",
        "        raise ValueError(\"Age must be 18 or older.\")\n",
        "    return \"Access granted.\"\n",
        "\n",
        "try:\n",
        "    print(check_age(15))\n",
        "except ValueError as e:\n",
        "    print(e)\n"
      ],
      "metadata": {
        "colab": {
          "base_uri": "https://localhost:8080/"
        },
        "id": "aRs-v9K1ZKNE",
        "outputId": "a3e5a8a4-6bb1-4a9f-b218-ea406c660c1e"
      },
      "execution_count": null,
      "outputs": [
        {
          "output_type": "stream",
          "name": "stdout",
          "text": [
            "Age must be 18 or older.\n"
          ]
        }
      ]
    },
    {
      "cell_type": "markdown",
      "source": [
        "4. What is the purpose of the finally block in exception handling ?\n",
        "\n",
        "The finally block in exception handling is used to execute code regardless of whether an exception was raised or not. Its primary purpose is to ensure that cleanup operations (like closing files, releasing resources, or disconnecting from a database) are performed no matter what happens in the try or except blocks.\n",
        "\n",
        "Key Characteristics:\n",
        "\n",
        "Always executed: Runs after the try and except blocks, even if an exception is raised or a return statement is encountered.\n",
        "Useful for cleanup: Ensures resources are properly released.\n",
        "\n"
      ],
      "metadata": {
        "id": "R37darFRaTSU"
      }
    },
    {
      "cell_type": "markdown",
      "source": [
        "5. What is logging in Python ?\n",
        "\n",
        "Logging in Python is a way to record messages about a program’s execution for debugging, monitoring, and tracking errors. The logging module allows you to log messages at different severity levels: DEBUG, INFO, WARNING, ERROR, and CRITICAL."
      ],
      "metadata": {
        "id": "d8MULM9sbYaM"
      }
    },
    {
      "cell_type": "code",
      "source": [
        "import logging\n",
        "\n",
        "logging.basicConfig(level=logging.INFO)\n",
        "logging.info(\"This is an info message.\")\n",
        "logging.error(\"This is an error message.\")\n"
      ],
      "metadata": {
        "colab": {
          "base_uri": "https://localhost:8080/"
        },
        "id": "QaWQRmQWcSCC",
        "outputId": "d6171ddb-08e0-4349-e6ba-f100fce31a20"
      },
      "execution_count": null,
      "outputs": [
        {
          "output_type": "stream",
          "name": "stderr",
          "text": [
            "ERROR:root:This is an error message.\n"
          ]
        }
      ]
    },
    {
      "cell_type": "markdown",
      "source": [
        "6. What is the significance of the __del__ method in Python ?\n",
        "\n",
        "The __del__ method in Python is a special method known as a destructor. It is called when an object is about to be destroyed or garbage collected to allow for cleanup operations like releasing resources or closing connections.\n",
        "\n",
        "Key Points:\n",
        "Purpose: Used to perform cleanup tasks when an object is deleted, such as closing files, releasing network resources, or freeing up memory.\n",
        "Automatic Call: Python’s garbage collector calls __del__ when there are no more references to the object.\n",
        "Not Reliable for Critical Tasks: Since the exact timing of garbage collection is not guaranteed, avoid using __del__ for essential resource management. Instead, use context managers (with statement) or try-finally.\n"
      ],
      "metadata": {
        "id": "KpvxKUINcfd1"
      }
    },
    {
      "cell_type": "code",
      "source": [
        "class MyClass:\n",
        "    def __del__(self):\n",
        "        print(\"Destructor called, object deleted.\")\n",
        "\n",
        "obj = MyClass()\n",
        "del obj  # Calls the __del__ method\n"
      ],
      "metadata": {
        "colab": {
          "base_uri": "https://localhost:8080/"
        },
        "id": "6WZwlhttcvB3",
        "outputId": "dbae8e49-9308-4b35-d74a-05a0cd4603cc"
      },
      "execution_count": null,
      "outputs": [
        {
          "output_type": "stream",
          "name": "stdout",
          "text": [
            "Destructor called, object deleted.\n"
          ]
        }
      ]
    },
    {
      "cell_type": "markdown",
      "source": [
        "7. What is the difference between import and from ... import in Python ?\n",
        "\n",
        "In Python, both import and from ... import are used to include external modules or specific parts of modules, but they work slightly differently:\n",
        "\n",
        "1. import Statement\n",
        "Imports the entire module.\n",
        "You need to use the module name as a prefix when accessing its functions, classes, or variables.\n",
        "\n",
        "import module_name\n"
      ],
      "metadata": {
        "id": "6nACZi0OdGfp"
      }
    },
    {
      "cell_type": "code",
      "source": [
        "import math\n",
        "print(math.sqrt(16))  # Access using the module prefix 'math'\n"
      ],
      "metadata": {
        "colab": {
          "base_uri": "https://localhost:8080/"
        },
        "id": "cQr_jJGrdtEz",
        "outputId": "d8b6552f-94b8-4fa8-e874-11f5575b2ddf"
      },
      "execution_count": null,
      "outputs": [
        {
          "output_type": "stream",
          "name": "stdout",
          "text": [
            "4.0\n"
          ]
        }
      ]
    },
    {
      "cell_type": "markdown",
      "source": [
        "2. from ... import Statement\n",
        "Imports specific functions, classes, or variables from a module.\n",
        "You can use the imported items directly without the module prefix.\n",
        "Syntax:\n",
        "python\n",
        "Copy code\n",
        "from module_name import specific_item"
      ],
      "metadata": {
        "id": "ohhURW4jd8xM"
      }
    },
    {
      "cell_type": "code",
      "source": [
        "from math import sqrt\n",
        "print(sqrt(16))  # No need for 'math.' prefix\n"
      ],
      "metadata": {
        "colab": {
          "base_uri": "https://localhost:8080/"
        },
        "id": "l2kl2DV1eATy",
        "outputId": "db9a6771-0e8c-4c1f-eac6-3b34aa03dd92"
      },
      "execution_count": null,
      "outputs": [
        {
          "output_type": "stream",
          "name": "stdout",
          "text": [
            "4.0\n"
          ]
        }
      ]
    },
    {
      "cell_type": "markdown",
      "source": [
        "from ... import * Statement\n",
        "Imports all items from a module into the current namespace.\n",
        "Avoids the module prefix but may lead to name conflicts if multiple modules have items with the same name.\n",
        "Example:\n",
        "python\n",
        "Copy code\n",
        "from math import *\n",
        "print(sqrt(16))  # No need for 'math.' prefix"
      ],
      "metadata": {
        "id": "H0LL5AkXeFsc"
      }
    },
    {
      "cell_type": "markdown",
      "source": [
        "8 . How can you handle multiple exceptions in Python ?\n",
        "\n",
        "You can handle multiple exceptions in Python using:\n",
        "\n",
        "1. Multiple except Blocks\n",
        "Handle different exceptions separately with distinct except blocks."
      ],
      "metadata": {
        "id": "it1OvPlqeKI6"
      }
    },
    {
      "cell_type": "code",
      "source": [
        "try:\n",
        "    x = int(\"abc\")  # Raises ValueError\n",
        "    y = 10 / 0       # Raises ZeroDivisionError\n",
        "except ValueError:\n",
        "    print(\"Caught a ValueError!\")\n",
        "except ZeroDivisionError:\n",
        "    print(\"Caught a ZeroDivisionError!\")\n"
      ],
      "metadata": {
        "colab": {
          "base_uri": "https://localhost:8080/"
        },
        "id": "dB7TGv4Weg81",
        "outputId": "0807d2e4-44f1-47e3-f4e5-2b961d77ea64"
      },
      "execution_count": null,
      "outputs": [
        {
          "output_type": "stream",
          "name": "stdout",
          "text": [
            "Caught a ValueError!\n"
          ]
        }
      ]
    },
    {
      "cell_type": "markdown",
      "source": [
        "2. Single except Block with a Tuple\n",
        "Handle multiple exceptions in one block by listing them in a tuple."
      ],
      "metadata": {
        "id": "NhnSGmlZelZn"
      }
    },
    {
      "cell_type": "code",
      "source": [
        "try:\n",
        "    x = int(\"abc\")\n",
        "except (ValueError, TypeError):\n",
        "    print(\"Caught a ValueError or TypeError!\")\n"
      ],
      "metadata": {
        "colab": {
          "base_uri": "https://localhost:8080/"
        },
        "id": "W-q3gcQtetts",
        "outputId": "da27477e-0262-4c1c-f966-9433da3c0d16"
      },
      "execution_count": null,
      "outputs": [
        {
          "output_type": "stream",
          "name": "stdout",
          "text": [
            "Caught a ValueError or TypeError!\n"
          ]
        }
      ]
    },
    {
      "cell_type": "markdown",
      "source": [
        "3. Catching All Exceptions (Exception)\n",
        "Use a generic except Exception block to catch any exception. However, use this carefully to avoid hiding unexpected errors."
      ],
      "metadata": {
        "id": "_EWP2BTEe3uZ"
      }
    },
    {
      "cell_type": "code",
      "source": [
        "try:\n",
        "    x = int(\"abc\")\n",
        "except Exception as e:\n",
        "    print(f\"Caught an exception: {e}\")\n"
      ],
      "metadata": {
        "colab": {
          "base_uri": "https://localhost:8080/"
        },
        "id": "ZJrgSxZRe7Ku",
        "outputId": "8cee2f3e-eeec-4e6c-a5ff-9521cd5d5fd4"
      },
      "execution_count": null,
      "outputs": [
        {
          "output_type": "stream",
          "name": "stdout",
          "text": [
            "Caught an exception: invalid literal for int() with base 10: 'abc'\n"
          ]
        }
      ]
    },
    {
      "cell_type": "markdown",
      "source": [
        "4. Using else and finally with Multiple Exceptions"
      ],
      "metadata": {
        "id": "6Ij7a2RnfGKb"
      }
    },
    {
      "cell_type": "code",
      "source": [
        "try:\n",
        "    x = 10 / 2\n",
        "except (ValueError, ZeroDivisionError) as e:\n",
        "    print(f\"Error: {e}\")\n",
        "else:\n",
        "    print(\"No exceptions occurred.\")\n",
        "finally:\n",
        "    print(\"Execution complete.\")\n"
      ],
      "metadata": {
        "colab": {
          "base_uri": "https://localhost:8080/"
        },
        "id": "WtnLM5JlfHgb",
        "outputId": "ff5054bf-7dbf-459c-e899-77e5ea82f860"
      },
      "execution_count": null,
      "outputs": [
        {
          "output_type": "stream",
          "name": "stdout",
          "text": [
            "No exceptions occurred.\n",
            "Execution complete.\n"
          ]
        }
      ]
    },
    {
      "cell_type": "markdown",
      "source": [
        "8. What is the purpose of the with statement when handling files in Python ?\n",
        "\n",
        "The with statement in Python is used for automatic resource management when handling files. It ensures that a file is properly opened and closed, even if an exception occurs. This simplifies code, prevents resource leaks, and eliminates the need to explicitly call file.close()."
      ],
      "metadata": {
        "id": "oek2p0wlfToQ"
      }
    },
    {
      "cell_type": "markdown",
      "source": [
        "9. What is the difference between multithreading and multiprocessing ?\n",
        "\n",
        "Multithreading involves running multiple threads within a single process, sharing the same memory space. It is best for I/O-bound tasks (like file operations or network requests) but is limited by Python's Global Interpreter Lock (GIL) for CPU-bound tasks.\n",
        "\n",
        "Multiprocessing uses separate processes with their own memory space, enabling true parallelism across multiple CPU cores. It is ideal for CPU-bound tasks (like heavy computations) and bypasses the GIL, utilizing multiple cores effectively.\n",
        "\n",
        "Key Difference:\n",
        "Multithreading: Shares memory, limited by the GIL, suitable for I/O-bound tasks.\n",
        "Multiprocessing: Uses separate memory spaces, allows true parallelism, ideal for CPU-bound tasks.\n"
      ],
      "metadata": {
        "id": "R_xRNo1Xgmbv"
      }
    },
    {
      "cell_type": "markdown",
      "source": [
        "10.  What are the advantages of using logging in a program ?\n",
        "The advantages of using logging in a program are:\n",
        "\n",
        "Easier Debugging: Helps track errors and program flow, making troubleshooting simpler.\n",
        "\n",
        "Better Monitoring: Provides insights into program behavior, especially in production.\n",
        "\n",
        "Traceability: Keeps a historical record of events for auditing and analysis.\n",
        "Control Over Output: Allows filtering log messages by severity (e.g., DEBUG, ERROR).\n",
        "\n",
        "Non-Intrusive: Logs can be stored without disrupting the program’s execution.\n",
        "Performance Monitoring: Tracks performance metrics like execution time and resource usage.\n",
        "\n",
        "Flexibility: Logs can be directed to various outputs like files or remote servers.\n",
        "\n",
        "Logging improves program maintainability and aids in diagnosing issues more effectively.\n"
      ],
      "metadata": {
        "id": "UIWab0n2hh9D"
      }
    },
    {
      "cell_type": "markdown",
      "source": [
        "11 What is memory management in Python ?\n",
        "\n",
        "Memory management in Python involves automatically handling the allocation and deallocation of memory for objects. Key features include:\n",
        "\n",
        "Automatic Allocation: Memory is allocated when objects are created.\n",
        "Reference Counting: Python tracks how many references point to an object, and when the count reaches zero, the memory is freed.\n",
        "Garbage Collection: Python's garbage collector removes unused objects, handling cyclic references.\n",
        "Memory Pools: Small objects are managed by specialized memory pools to optimize performance.\n",
        "Python's memory management system ensures efficient memory use, allowing developers to focus on programming without manually managing memory"
      ],
      "metadata": {
        "id": "j-YvUvpeh59B"
      }
    },
    {
      "cell_type": "markdown",
      "source": [
        "12. What are the basic steps involved in exception handling in Python  ?\n",
        "\n",
        "The basic steps involved in exception handling in Python are:\n",
        "\n",
        "Try Block: Code that might raise an exception is placed inside a try block.\n",
        "Except Block: If an exception occurs in the try block, it is caught and handled in the except block.\n",
        "Else Block (Optional): Code in the else block runs if no exception occurs in the try block.\n",
        "Finally Block (Optional): Code in the finally block runs regardless of whether an exception occurred, typically used for cleanup."
      ],
      "metadata": {
        "id": "zGKIKy6tiXI5"
      }
    },
    {
      "cell_type": "code",
      "source": [
        "try:\n",
        "    x = 10 / 0  # Potential exception\n",
        "except ZeroDivisionError:\n",
        "    print(\"Cannot divide by zero!\")\n",
        "else:\n",
        "    print(\"No exceptions occurred.\")\n",
        "finally:\n",
        "    print(\"This will run no matter what.\")\n"
      ],
      "metadata": {
        "colab": {
          "base_uri": "https://localhost:8080/"
        },
        "id": "6Cubuk9oindc",
        "outputId": "86c27b47-4ef7-4a41-cc0f-d33ec506c579"
      },
      "execution_count": null,
      "outputs": [
        {
          "output_type": "stream",
          "name": "stdout",
          "text": [
            "Cannot divide by zero!\n",
            "This will run no matter what.\n"
          ]
        }
      ]
    },
    {
      "cell_type": "markdown",
      "source": [
        "13. Why is memory management important in Python ?\n",
        "\n",
        "Memory management is important in Python because it ensures efficient use of system resources, prevents memory leaks, optimizes performance, and simplifies development by automating memory allocation and deallocation. This helps programs run efficiently, especially in long-running applications or those processing large datasets.\n",
        "\n",
        "\n",
        "\n",
        "\n",
        "\n",
        "\n",
        "\n",
        "\n",
        "---\n",
        "\n"
      ],
      "metadata": {
        "id": "4upcmtgwlOSW"
      }
    },
    {
      "cell_type": "markdown",
      "source": [
        "14.What is the role of try and except in exception handling ?\n",
        "\n",
        "In exception handling, the try and except blocks play the following roles:\n",
        "\n",
        "try block: Contains code that might raise an exception. If an exception occurs, the program stops executing the try block and jumps to the except block.\n",
        "\n",
        "except block: Catches and handles the exception raised in the try block, allowing the program to continue running without crashing.\n",
        "\n",
        "Example:"
      ],
      "metadata": {
        "id": "eH4YwAT-kT9I"
      }
    },
    {
      "cell_type": "code",
      "source": [
        "try:\n",
        "    x = 10 / 0  # This will raise a ZeroDivisionError\n",
        "except ZeroDivisionError:\n",
        "    print(\"Cannot divide by zero!\")  # Handles the exception\n"
      ],
      "metadata": {
        "colab": {
          "base_uri": "https://localhost:8080/"
        },
        "id": "PgOm7oWvhEc7",
        "outputId": "998dec94-095b-4c15-c90f-8514ec307b53"
      },
      "execution_count": null,
      "outputs": [
        {
          "output_type": "stream",
          "name": "stdout",
          "text": [
            "Cannot divide by zero!\n"
          ]
        }
      ]
    },
    {
      "cell_type": "markdown",
      "source": [
        "15. How does Python's garbage collection system work  ?\n",
        "\n",
        "Python's garbage collection system works through:\n",
        "\n",
        "Reference Counting: Each object has a reference count, and when it reaches zero (no references to the object), the memory is freed.\n",
        "\n",
        "Cyclic Garbage Collection: It detects and cleans up circular references (objects referring to each other) using a cyclic collector, which runs periodically.\n",
        "\n",
        "These mechanisms help Python manage memory automatically, freeing up unused resources and preventing memory leaks."
      ],
      "metadata": {
        "id": "tUtS0edGk9R_"
      }
    },
    {
      "cell_type": "markdown",
      "source": [
        "16.  What is the purpose of the else block in exception handling?\n",
        "\n",
        "The else block in exception handling is used to define code that should run only if no exception occurs in the try block. It helps separate successful execution logic from error-handling logic."
      ],
      "metadata": {
        "id": "OjBPTSbhnDZi"
      }
    },
    {
      "cell_type": "code",
      "source": [
        "try:\n",
        "    x = 10 / 2\n",
        "except ZeroDivisionError:\n",
        "    print(\"Cannot divide by zero!\")\n",
        "else:\n",
        "    print(\"Division successful!\")  # This runs if no exception occurs\n"
      ],
      "metadata": {
        "colab": {
          "base_uri": "https://localhost:8080/"
        },
        "id": "rC4dq9r5nfa-",
        "outputId": "11d851c0-69d8-4af4-8854-5d5ce6a9b2d3"
      },
      "execution_count": null,
      "outputs": [
        {
          "output_type": "stream",
          "name": "stdout",
          "text": [
            "Division successful!\n"
          ]
        }
      ]
    },
    {
      "cell_type": "markdown",
      "source": [
        "17.  What are the common logging levels in Python ?\n",
        "\n",
        "The common logging levels in Python, ordered from lowest to highest severity, are:\n",
        "\n",
        "DEBUG: Detailed information, useful for diagnosing problems. It’s the lowest level.\n",
        "INFO: General information about the program's execution (e.g., successful operations).\n",
        "WARNING: Indicates something unexpected, but the program can still run (e.g., minor issues).\n",
        "ERROR: Indicates a more serious problem that affects part of the program's functionality.\n",
        "CRITICAL: Indicates a very serious problem that may cause the program to terminate.\n",
        "These levels allow you to filter log messages based on their importance."
      ],
      "metadata": {
        "id": "yjvEjkFennGg"
      }
    },
    {
      "cell_type": "markdown",
      "source": [
        "18.What is the difference between os.fork() and multiprocessing in Python ?\n",
        "\n",
        "The difference between os.fork() and multiprocessing in Python is:\n",
        "\n",
        "os.fork():\n",
        "\n",
        "Platform: Available only on Unix-based systems (Linux, macOS).\n",
        "Functionality: Creates a child process by duplicating the parent process. The child process starts executing from the point where fork() is called.\n",
        "Usage: Low-level process creation, less portable, and does not easily support inter-process communication.\n",
        "multiprocessing:\n",
        "\n",
        "Platform: Cross-platform (works on both Unix and Windows).\n",
        "Functionality: Provides a high-level interface for creating and managing processes, supporting parallel execution. It includes features like inter-process communication (queues, pipes) and process synchronization.\n",
        "Usage: Easier to use and more powerful for parallel programming, especially on Windows where os.fork() is not available.\n",
        "In short, os.fork() is a low-level Unix-specific system call, while multiprocessing is a higher-level, cross-platform module that facilitates parallel execution with more features.\n",
        "\n",
        "\n",
        "\n",
        "\n",
        "\n",
        "\n"
      ],
      "metadata": {
        "id": "d5MUQI9un8oG"
      }
    },
    {
      "cell_type": "markdown",
      "source": [
        "19. What is the importance of closing a file in Python ?\n",
        "Closing a file in Python is important for several reasons:\n",
        "\n",
        "Releases System Resources: When a file is opened, the operating system allocates resources (like file handles) to manage it. Closing the file frees these resources, making them available for other tasks.\n",
        "\n",
        "Ensures Data is Written: For write operations, closing the file ensures that all data is properly written to disk and not left in memory or cache.\n",
        "\n",
        "Prevents Memory Leaks: Leaving files open can lead to memory leaks, especially in long-running programs, as resources are not released when they should be.\n",
        "\n",
        "Avoids File Corruption: Closing the file ensures that any buffered data is flushed and saved correctly, preventing data corruption or loss.\n",
        "\n",
        "While Python automatically closes files when using a with statement (context manager), explicitly closing files using file.close() is necessary if you're manually handling file operations.\n"
      ],
      "metadata": {
        "id": "tblGuQhZoUMZ"
      }
    },
    {
      "cell_type": "code",
      "source": [
        "file = open('example.txt', 'w')\n",
        "file.write('Hello, world!')\n",
        "file.close()  # Ensures data is saved and resources are released\n"
      ],
      "metadata": {
        "id": "nsqrJQRTohOE"
      },
      "execution_count": null,
      "outputs": []
    },
    {
      "cell_type": "markdown",
      "source": [
        "20.What is the difference between file.read() and file.readline() in Python  ?\n",
        "\n",
        "The difference between file.read() and file.readline() in Python is:\n",
        "\n",
        "file.read():\n",
        "\n",
        "Reads the entire content of the file at once as a single string.\n",
        "Useful for small files or when you need to process the entire file in one go.\n",
        "Example:\n",
        "\n",
        "python\n",
        "Copy code\n",
        "content = file.read()\n",
        "file.readline():\n",
        "\n",
        "Reads one line at a time from the file.\n",
        "Useful for large files when you need to process the file line by line without loading it all into memory.\n",
        "Example:\n",
        "\n",
        "python\n",
        "Copy code\n",
        "line = file.readline()\n",
        "In short, file.read() reads the entire file, while file.readline() reads one line at a time."
      ],
      "metadata": {
        "id": "PbE9bg6Kon-x"
      }
    },
    {
      "cell_type": "markdown",
      "source": [
        "21. What is the logging module in Python used for ?\n",
        "\n",
        "The logging module in Python is used for tracking and recording events that occur during program execution. It allows developers to log messages of different severity levels (e.g., DEBUG, INFO, WARNING, ERROR, CRITICAL) to help with debugging, monitoring, and troubleshooting programs.\n",
        "\n",
        "It supports various log outputs (e.g., console, files, remote servers) and provides flexibility in filtering and formatting log messages."
      ],
      "metadata": {
        "id": "oQSvhQF4rWx5"
      }
    },
    {
      "cell_type": "markdown",
      "source": [
        "22.What is the os module in Python used for in file handling ?\n",
        "\n",
        "The os module in Python is used for interacting with the operating system, particularly for file and directory manipulation. In file handling, it provides functions to:\n",
        "\n",
        "Work with directories: Create, remove, and change directories (os.mkdir(), os.rmdir(), os.chdir()).\n",
        "Manage file paths: Join, split, and check file paths (os.path.join(), os.path.exists(), os.path.isfile()).\n",
        "File operations: Remove files (os.remove()), rename files (os.rename()), and list directory contents (os.listdir()).\n",
        "It allows you to perform basic file and directory operations while being platform-independent.\n"
      ],
      "metadata": {
        "id": "n-xCLtoUrq2c"
      }
    },
    {
      "cell_type": "markdown",
      "source": [
        "23.What are the challenges associated with memory management in Python?\n",
        "\n",
        "Challenges associated with memory management in Python include:\n",
        "\n",
        "Reference Cycles: Circular references can lead to memory leaks, though the garbage collector handles them imperfectly.\n",
        "\n",
        "Global Interpreter Lock (GIL): Limit\n",
        "High Memory Consumption: Python’s dynamic typing and object management can lead to greater memory use.\n",
        "\n",
        "Unpredictable Garbage Collection: Garbage collection timing can be inconsistent, affecting performance.\n",
        "\n",
        "Memory Leaks: Retained references can prevent memory from being freed.\n",
        "Manual Memory Management in C Extensions: Improper handling in C extensions can lead to memory corruption.\n",
        "\n",
        "These challenges require careful handling to avoid performance issues and memory inefficiencies."
      ],
      "metadata": {
        "id": "lqQe9WjlsA4u"
      }
    },
    {
      "cell_type": "markdown",
      "source": [
        "24.How do you raise an exception manually in Python  ?\n",
        "\n",
        "You can raise an exception manually in Python using the raise keyword followed by the exception you want to raise.\n",
        "\n",
        "Example:\n",
        "\n",
        "raise ValueError(\"This is a custom error message\")\n",
        "This will raise a ValueError with the specified message. You can also raise built-in exceptions or custom exceptions defined by you."
      ],
      "metadata": {
        "id": "ql9v-lcMscex"
      }
    },
    {
      "cell_type": "markdown",
      "source": [
        "25.Why is it important to use multithreading in certain applications?\n",
        "\n",
        "Multithreading is important in certain applications because it allows for parallel execution of tasks, which can:\n",
        "\n",
        "Improve Performance: By executing multiple tasks concurrently, especially on multi-core processors, it can speed up I/O-bound or concurrent tasks (e.g., web scraping, handling multiple user requests).\n",
        "Better Resource Utilization: It maximizes the use of available CPU cores, making applications more efficient.\n",
        "Non-blocking Operations: In I/O-bound tasks (like file reading or network communication), multithreading allows other tasks to proceed without waiting for the I/O operation to complete, improving responsiveness.\n",
        "Overall, multithreading enhances performance, responsiveness, and scalability in applications requiring concurrent operations.\n",
        "\n",
        "\n",
        "\n",
        "\n",
        "\n",
        "\n"
      ],
      "metadata": {
        "id": "n1upI9M-s4qX"
      }
    },
    {
      "cell_type": "markdown",
      "source": [
        "**Practical Question **"
      ],
      "metadata": {
        "id": "RhdhhbRuwYmX"
      }
    },
    {
      "cell_type": "markdown",
      "source": [
        "1.How  can you open a file for writing in Python and write a string to it ?\n",
        "\n",
        "You can open a file for writing in Python using the open() function with the 'w' mode, and then write a string to it using the write() method."
      ],
      "metadata": {
        "id": "h5-6vijKwpG5"
      }
    },
    {
      "cell_type": "code",
      "source": [
        "# Open the file in write mode ('w')\n",
        "with open('file.txt', 'w') as file:\n",
        "    # Write a string to the file\n",
        "    file.write(\"Hello, World!\")\n"
      ],
      "metadata": {
        "id": "jwFcZaUCxEMY"
      },
      "execution_count": null,
      "outputs": []
    },
    {
      "cell_type": "markdown",
      "source": [
        "2.Write a Python program to read the contents of a file and print each line ?\n"
      ],
      "metadata": {
        "id": "IS2AuFHyxbgV"
      }
    },
    {
      "cell_type": "code",
      "source": [
        "# Open the file in read mode ('r')\n",
        "with open('file.txt', 'r') as file:\n",
        "    # Read and print each line from\n",
        "    for line in file:\n",
        "        print(line)"
      ],
      "metadata": {
        "colab": {
          "base_uri": "https://localhost:8080/"
        },
        "id": "8wuE3TGPxoq8",
        "outputId": "14da10c5-dac1-407c-91f3-ca21b1f7bad2"
      },
      "execution_count": null,
      "outputs": [
        {
          "output_type": "stream",
          "name": "stdout",
          "text": [
            "Hello, World!\n"
          ]
        }
      ]
    },
    {
      "cell_type": "markdown",
      "source": [
        "3. How would you handle a case where the file doesn't exist while trying to open it for reading ?\n",
        "To handle the case where the file doesn't exist while trying to open it for reading, you can use a try and except block to catch the FileNotFoundError exception.\n",
        "\n",
        "Here’s an example:"
      ],
      "metadata": {
        "id": "4aE_zMk5x6tF"
      }
    },
    {
      "cell_type": "code",
      "source": [
        "try:\n",
        "    with open('file.txt', 'r') as file:\n",
        "        # Read and print each line from the file\n",
        "        for line in file:\n",
        "            print(line)\n",
        "except FileNotFoundError:\n",
        "    print(\"The file does not exist.\")\n"
      ],
      "metadata": {
        "colab": {
          "base_uri": "https://localhost:8080/"
        },
        "id": "OlROH00cyLxi",
        "outputId": "c06f95df-9c5d-4ced-d53c-ec23d038c352"
      },
      "execution_count": null,
      "outputs": [
        {
          "output_type": "stream",
          "name": "stdout",
          "text": [
            "Hello, World!\n"
          ]
        }
      ]
    },
    {
      "cell_type": "markdown",
      "source": [
        "4. Write a Python script that reads from one file and writes its content to another file ?"
      ],
      "metadata": {
        "id": "V3mBMJ7GyQcs"
      }
    },
    {
      "cell_type": "code",
      "source": [
        "def read_and_print_file(file_path):\n",
        "    try:\n",
        "        with open(file_path, 'r') as file:  # Open the file in read mode\n",
        "            for line in file:\n",
        "                print(line, end='')  # Print each line, avoiding extra newlines\n",
        "    except FileNotFoundError:\n",
        "        print(f\"Error: The file '{file_path}' does not exist.\")\n",
        "    except IOError as e:\n",
        "        print(f\"Error reading the file: {e}\")\n",
        "\n",
        "# Specify the file path\n",
        "file_path = 'example.txt'  # Replace with your file path\n",
        "read_and_print_file(file_path)"
      ],
      "metadata": {
        "colab": {
          "base_uri": "https://localhost:8080/"
        },
        "id": "FWYUGdI3zQT7",
        "outputId": "78bb5513-6302-487c-cbfc-19063959f60b"
      },
      "execution_count": null,
      "outputs": [
        {
          "output_type": "stream",
          "name": "stdout",
          "text": [
            "Hello, world!"
          ]
        }
      ]
    },
    {
      "cell_type": "markdown",
      "source": [
        "5  How would you catch and handle division by zero error in Python ?"
      ],
      "metadata": {
        "id": "ca9Aa2HuzaaX"
      }
    },
    {
      "cell_type": "code",
      "source": [
        "try:\n",
        "    # Attempt to divide by zero\n",
        "    result = 10 / 0\n",
        "except ZeroDivisionError:\n",
        "    print(\"Error: Cannot divide by zero.\")\n",
        "else:\n",
        "    print(\"Result:\", result)\n"
      ],
      "metadata": {
        "colab": {
          "base_uri": "https://localhost:8080/"
        },
        "id": "xmIOGwcpzi0c",
        "outputId": "b1a33331-9b70-4ac9-d9a4-53a2eb7bccab"
      },
      "execution_count": null,
      "outputs": [
        {
          "output_type": "stream",
          "name": "stdout",
          "text": [
            "Error: Cannot divide by zero.\n"
          ]
        }
      ]
    },
    {
      "cell_type": "markdown",
      "source": [
        "6.Write a Python program that logs an error message to a log file when a division by zero exception occurs ?"
      ],
      "metadata": {
        "id": "RSnyy7INztbT"
      }
    },
    {
      "cell_type": "code",
      "source": [
        "import logging\n",
        "\n",
        "# Set up logging configuration\n",
        "logging.basicConfig(filename='error_log.txt', level=logging.ERROR,\n",
        "                    format='%(asctime)s - %(levelname)s - %(message)s')\n",
        "\n",
        "try:\n",
        "    # Attempt to divide by zero\n",
        "    result = 10 / 0\n",
        "except ZeroDivisionError as e:\n",
        "    # Log the error message to the log file\n",
        "    logging.error(f\"Division by zero error: {e}\")\n",
        "\n",
        "print(\"Error logged successfully.\")\n"
      ],
      "metadata": {
        "colab": {
          "base_uri": "https://localhost:8080/"
        },
        "id": "SBfHrLtcz0gE",
        "outputId": "bc11d5de-47cf-4b69-c1fa-26b2052b4270"
      },
      "execution_count": null,
      "outputs": [
        {
          "output_type": "stream",
          "name": "stderr",
          "text": [
            "ERROR:root:Division by zero error: division by zero\n"
          ]
        },
        {
          "output_type": "stream",
          "name": "stdout",
          "text": [
            "Error logged successfully.\n"
          ]
        }
      ]
    },
    {
      "cell_type": "markdown",
      "source": [
        "7. How do you log information at different levels (INFO, ERROR, WARNING) in Python using the logging module ?"
      ],
      "metadata": {
        "id": "qdTl4dkWz6Vr"
      }
    },
    {
      "cell_type": "code",
      "source": [
        "import logging\n",
        "\n",
        "# Set up logging configuration\n",
        "logging.basicConfig(filename='app.log', level=logging.DEBUG,\n",
        "                    format='%(asctime)s - %(levelname)s - %(message)s')\n",
        "\n",
        "# Logging at different levels\n",
        "logging.debug(\"This is a debug message.\")  # Detailed debug information, usually for diagnosing issues\n",
        "logging.info(\"This is an info message.\")   # General information, typically for normal operations\n",
        "logging.warning(\"This is a warning message.\")  # Indicating a potential issue\n",
        "logging.error(\"This is an error message.\")  # Indicating an actual error\n",
        "logging.critical(\"This is a critical message.\")  # Serious error, often requiring immediate attention\n"
      ],
      "metadata": {
        "colab": {
          "base_uri": "https://localhost:8080/"
        },
        "id": "VqaTeMvH0EJG",
        "outputId": "4ca80ecf-2531-439f-ccd1-9826b50366eb"
      },
      "execution_count": null,
      "outputs": [
        {
          "output_type": "stream",
          "name": "stderr",
          "text": [
            "WARNING:root:This is a warning message.\n",
            "ERROR:root:This is an error message.\n",
            "CRITICAL:root:This is a critical message.\n"
          ]
        }
      ]
    },
    {
      "cell_type": "markdown",
      "source": [
        "8.Write a program to handle a file opening error using exception handling ?"
      ],
      "metadata": {
        "id": "J8In_Sig0NVE"
      }
    },
    {
      "cell_type": "code",
      "source": [
        "\n",
        "\n",
        "try:\n",
        "    # Attempt to open the file\n",
        "    with open('non_existent_file.txt', 'r') as file:\n",
        "        content = file.read()\n",
        "        print(content)\n",
        "except FileNotFoundError:\n",
        "    print(\"Error: The file does not exist.\")\n",
        "except IOError:\n",
        "    print(\"Error: An I/O error occurred while opening the file.\")\n"
      ],
      "metadata": {
        "colab": {
          "base_uri": "https://localhost:8080/"
        },
        "id": "mhG4AhW-0X4c",
        "outputId": "72977092-5a19-4087-d0df-d20d124db061"
      },
      "execution_count": null,
      "outputs": [
        {
          "output_type": "stream",
          "name": "stdout",
          "text": [
            "Error: The file does not exist.\n"
          ]
        }
      ]
    },
    {
      "cell_type": "markdown",
      "source": [
        "9. How can you read a file line by line and store its content in a list in Python ?"
      ],
      "metadata": {
        "id": "bIq-h17N0pP4"
      }
    },
    {
      "cell_type": "code",
      "source": [
        "# Open the file in read mode\n",
        "with open('file.txt', 'r') as file:\n",
        "    # Read each line and store it in a list\n",
        "    lines = file.readlines()\n",
        "\n",
        "# Print the list of lines\n",
        "print(lines)\n"
      ],
      "metadata": {
        "colab": {
          "base_uri": "https://localhost:8080/"
        },
        "id": "kun9YVJW0oas",
        "outputId": "479dc6de-c539-4354-8cf9-3ac5aea7c70d"
      },
      "execution_count": null,
      "outputs": [
        {
          "output_type": "stream",
          "name": "stdout",
          "text": [
            "['Hello, World!']\n"
          ]
        }
      ]
    },
    {
      "cell_type": "markdown",
      "source": [
        "10.How can you append data to an existing file in Python ?\n"
      ],
      "metadata": {
        "id": "_SKQilbt03N0"
      }
    },
    {
      "cell_type": "code",
      "source": [
        "# Open the file in append mode\n",
        "with open('file.txt', 'a') as file:\n",
        "    # Append data to the file\n",
        "    file.write(\"This is the new data being appended.\\n\")\n",
        "\n",
        "print(\"Data has been appended successfully.\")\n"
      ],
      "metadata": {
        "colab": {
          "base_uri": "https://localhost:8080/"
        },
        "id": "l3uSsUpV0-_M",
        "outputId": "07815434-cc45-49e3-bb80-22d305f7628f"
      },
      "execution_count": null,
      "outputs": [
        {
          "output_type": "stream",
          "name": "stdout",
          "text": [
            "Data has been appended successfully.\n"
          ]
        }
      ]
    },
    {
      "cell_type": "markdown",
      "source": [
        "11.Write a Python program that uses a try-except block to handle an error when attempting to access a\n",
        "dictionary key that doesn't exist ?"
      ],
      "metadata": {
        "id": "nU3KFa2j1GLw"
      }
    },
    {
      "cell_type": "code",
      "source": [
        "# Sample dictionary\n",
        "my_dict = {'name': 'John', 'age': 30}\n",
        "\n",
        "try:\n",
        "    # Attempt to access a key that may not exist\n",
        "    print(my_dict['address'])\n",
        "except KeyError:\n",
        "    print(\"Error: The key 'address' does not exist in the dictionary.\")\n"
      ],
      "metadata": {
        "colab": {
          "base_uri": "https://localhost:8080/"
        },
        "id": "VZSWyque1KEc",
        "outputId": "ab0ae469-9549-4846-dbbe-6b8e8fcc3875"
      },
      "execution_count": null,
      "outputs": [
        {
          "output_type": "stream",
          "name": "stdout",
          "text": [
            "Error: The key 'address' does not exist in the dictionary.\n"
          ]
        }
      ]
    },
    {
      "cell_type": "markdown",
      "source": [
        "12. Write a program that demonstrates using multiple except blocks to handle different types of exceptions ?"
      ],
      "metadata": {
        "id": "bLYDTmXO1RJf"
      }
    },
    {
      "cell_type": "code",
      "source": [
        "try:\n",
        "    # Example operations that may raise different exceptions\n",
        "    num1 = int(input(\"Enter a number: \"))\n",
        "    num2 = int(input(\"Enter another number: \"))\n",
        "\n",
        "    # Division operation (may raise ZeroDivisionError)\n",
        "    result = num1 / num2\n",
        "    print(\"Result of division:\", result)\n",
        "\n",
        "    # Attempt to access a key in a dictionary (may raise KeyError)\n",
        "    my_dict = {'a': 1, 'b': 2}\n",
        "    print(my_dict['c'])  # This will raise a KeyError\n",
        "\n",
        "except ZeroDivisionError:\n",
        "    print(\"Error: Cannot divide by zero.\")\n",
        "\n",
        "except KeyError:\n",
        "    print(\"Error: The key you tried to access does not exist.\")\n",
        "\n",
        "except ValueError:\n",
        "    print(\"Error: Invalid input. Please enter a valid number.\")\n",
        "\n",
        "except Exception as e:\n",
        "    print(f\"An unexpected error occurred: {e}\")\n"
      ],
      "metadata": {
        "id": "Au_76AH01WCL"
      },
      "execution_count": null,
      "outputs": []
    },
    {
      "cell_type": "markdown",
      "source": [
        "13.How would you check if a file exists before attempting to read it in Python ?\n",
        "\n",
        "Using os.path.exists():"
      ],
      "metadata": {
        "id": "vWtoGE4q1dIj"
      }
    },
    {
      "cell_type": "code",
      "source": [
        "import os\n",
        "\n",
        "file_path = 'file.txt'\n",
        "\n",
        "# Check if the file exists before opening\n",
        "if os.path.exists(file_path):\n",
        "    with open(file_path, 'r') as file:\n",
        "        content = file.read()\n",
        "        print(content)\n",
        "else:\n",
        "    print(f\"Error: The file '{file_path}' does not exist.\")\n"
      ],
      "metadata": {
        "id": "LMjGsuZJ1uns",
        "colab": {
          "base_uri": "https://localhost:8080/"
        },
        "outputId": "fe47b073-025a-4718-f018-a0241664dca5"
      },
      "execution_count": null,
      "outputs": [
        {
          "output_type": "stream",
          "name": "stdout",
          "text": [
            "This is the new data being appended.\n",
            "\n"
          ]
        }
      ]
    },
    {
      "cell_type": "markdown",
      "source": [
        "Using pathlib.Path.exists() (more modern):"
      ],
      "metadata": {
        "id": "73g3uxYu1yok"
      }
    },
    {
      "cell_type": "code",
      "source": [
        "from pathlib import Path\n",
        "\n",
        "file_path = Path('file.txt')\n",
        "\n",
        "# Check if the file exists before opening\n",
        "if file_path.exists():\n",
        "    with open(file_path, 'r') as file:\n",
        "        content = file.read()\n",
        "        print(content)\n",
        "else:\n",
        "    print(f\"Error: The file '{file_path}' does not exist.\")\n"
      ],
      "metadata": {
        "id": "1qKtepd91zk9"
      },
      "execution_count": null,
      "outputs": []
    },
    {
      "cell_type": "markdown",
      "source": [
        "14.Write a program that uses the logging module to log both informational and error messages ?"
      ],
      "metadata": {
        "id": "-tiQukvH129n"
      }
    },
    {
      "cell_type": "code",
      "source": [
        "import logging\n",
        "\n",
        "# Set up logging configuration\n",
        "logging.basic\n"
      ],
      "metadata": {
        "id": "h85zfU-r2V4v"
      },
      "execution_count": null,
      "outputs": []
    },
    {
      "cell_type": "code",
      "source": [
        "f print_file_content(file_path):\n",
        "    try:\n",
        "        with open(file_path, 'r') as file:\n",
        "            content = file.read()\n",
        "            if content.strip():  # Check if content is not just whitespace\n",
        "                print(\"File content:\")\n",
        "                print(content)\n",
        "            else:\n",
        "                print(\"The file is empty.\")\n",
        "    except FileNotFoundError:\n",
        "        print(f\"Error: The file '{file_path}' was not found.\")\n",
        "    except Exception as e:\n",
        "        print(f\"An error occurred: {e}\")\n",
        "\n",
        "# Example usage\n",
        "if _name_ == \"_main_\":\n",
        "    file_path = input(\"Enter the file path: \")\n",
        "    print_file_content(file_path)"
      ],
      "metadata": {
        "id": "abSIWnWiAo3w"
      },
      "execution_count": null,
      "outputs": []
    },
    {
      "cell_type": "markdown",
      "source": [
        "15. Write a Python program that prints the content of a file and handles the case when the file is empty ?"
      ],
      "metadata": {
        "id": "uTfgIALv3Ijs"
      }
    },
    {
      "cell_type": "code",
      "source": [
        "# Open the file in read mode\n",
        "try:\n",
        "    with open('file.txt', 'r') as file:\n",
        "        content = file.read()\n",
        "\n",
        "        # Check if the file is empty\n",
        "        if content:\n",
        "            print(\"File content:\")\n",
        "            print(content)\n",
        "        else:\n",
        "            print(\"The file is empty.\")\n",
        "except FileNotFoundError:\n",
        "    print(\"Error: The file does not exist.\")\n",
        "except IOError:\n",
        "    print(\"Error: An I/O error occurred while reading the file.\")\n"
      ],
      "metadata": {
        "id": "BKesCzPJ3MtQ",
        "colab": {
          "base_uri": "https://localhost:8080/"
        },
        "outputId": "9b2b22eb-c22f-4115-f374-1c300d1b66eb"
      },
      "execution_count": null,
      "outputs": [
        {
          "output_type": "stream",
          "name": "stdout",
          "text": [
            "Error: The file does not exist.\n"
          ]
        }
      ]
    },
    {
      "cell_type": "markdown",
      "source": [
        "16.Demonstrate how to use memory profiling to check the memory usage of a small program ?\n",
        "\n",
        "To demonstrate memory profiling in Python, we can use the memory_profiler package, which allows us to measure the memory usage of a Python program.\n",
        "\n",
        "Steps to Install memory_profiler:\n",
        "First, you'll need to install the memory_profiler module. You can install it using pip:\n",
        "\n",
        "pip install memory-profiler\n",
        "\n",
        "\n"
      ],
      "metadata": {
        "id": "hNOKDP_0323Z"
      }
    },
    {
      "cell_type": "code",
      "source": [
        "pip install memory-profiler\n"
      ],
      "metadata": {
        "id": "b3Ml7dAt4YA7",
        "colab": {
          "base_uri": "https://localhost:8080/"
        },
        "outputId": "3ddde22b-5198-4440-b309-304246c7915f"
      },
      "execution_count": null,
      "outputs": [
        {
          "output_type": "stream",
          "name": "stdout",
          "text": [
            "Collecting memory-profiler\n",
            "  Downloading memory_profiler-0.61.0-py3-none-any.whl.metadata (20 kB)\n",
            "Requirement already satisfied: psutil in /usr/local/lib/python3.10/dist-packages (from memory-profiler) (5.9.5)\n",
            "Downloading memory_profiler-0.61.0-py3-none-any.whl (31 kB)\n",
            "Installing collected packages: memory-profiler\n",
            "Successfully installed memory-profiler-0.61.0\n"
          ]
        }
      ]
    },
    {
      "cell_type": "code",
      "source": [
        "from memory_profiler import profile\n",
        "\n",
        "@profile\n",
        "def my_function():\n",
        "    # Create a list with some numbers\n",
        "    my_list = [i for i in range(10000)]\n",
        "    print(\"List created with 10,000 numbers.\")\n",
        "\n",
        "    # Perform a simple operation\n",
        "    total = sum(my_list)\n",
        "    print(f\"Total sum: {total}\")\n",
        "\n",
        "    # Add more data to the list\n",
        "    my_list.extend([i for i in range(10000, 20000)])\n",
        "    print(\"Extended the list to 20,000 elements.\")\n",
        "\n",
        "    return total\n",
        "\n",
        "if __name__ == \"__main__\":\n",
        "    my_function()\n"
      ],
      "metadata": {
        "id": "uDRXeR594gwY",
        "colab": {
          "base_uri": "https://localhost:8080/"
        },
        "outputId": "1bfb8e0a-8390-4662-ffd5-6f1b468d71d5"
      },
      "execution_count": null,
      "outputs": [
        {
          "output_type": "stream",
          "name": "stderr",
          "text": [
            "\n",
            "PYDEV DEBUGGER WARNING:\n",
            "sys.settrace() should not be used when the debugger is being used.\n",
            "This may cause the debugger to stop working correctly.\n",
            "If this is needed, please check: \n",
            "http://pydev.blogspot.com/2007/06/why-cant-pydev-debugger-work-with.html\n",
            "to see how to restore the debug tracing back correctly.\n",
            "Call Location:\n",
            "  File \"/usr/local/lib/python3.10/dist-packages/memory_profiler.py\", line 847, in enable\n",
            "    sys.settrace(self.trace_memory_usage)\n",
            "\n",
            "\n",
            "PYDEV DEBUGGER WARNING:\n",
            "sys.settrace() should not be used when the debugger is being used.\n",
            "This may cause the debugger to stop working correctly.\n",
            "If this is needed, please check: \n",
            "http://pydev.blogspot.com/2007/06/why-cant-pydev-debugger-work-with.html\n",
            "to see how to restore the debug tracing back correctly.\n",
            "Call Location:\n",
            "  File \"/usr/local/lib/python3.10/dist-packages/memory_profiler.py\", line 850, in disable\n",
            "    sys.settrace(self._original_trace_function)\n",
            "\n"
          ]
        },
        {
          "output_type": "stream",
          "name": "stdout",
          "text": [
            "ERROR: Could not find file <ipython-input-3-658cd0ec2420>\n",
            "NOTE: %mprun can only be used on functions defined in physical files, and not in the IPython environment.\n",
            "List created with 10,000 numbers.\n",
            "Total sum: 49995000\n",
            "Extended the list to 20,000 elements.\n"
          ]
        }
      ]
    },
    {
      "source": [
        "!pip install memory-profiler #Only need to call this once per environment\n",
        "from memory_profiler import profile\n",
        "\n",
        "@profile\n",
        "def my_function():\n",
        "    # Create a list with some numbers\n",
        "    my_list = [i for i in range(10000)]\n",
        "    print(\"List created with 10,000 numbers.\")\n",
        "\n",
        "    # Perform a simple operation\n",
        "    total = sum(my_list)\n",
        "    print(f\"Total sum: {total}\")\n",
        "\n",
        "    # Add more data to the list\n",
        "    my_list.extend([i for i in range(10000, 20000)])\n",
        "    print(\"Extended the list to 20,000 elements.\")\n",
        "\n",
        "    return total\n",
        "\n",
        "if __name__ == \"__main__\":\n",
        "    my_function()"
      ],
      "cell_type": "code",
      "metadata": {
        "id": "meYABhut0hyZ",
        "colab": {
          "base_uri": "https://localhost:8080/"
        },
        "outputId": "fe114951-883e-4c4a-b97e-79a5e9a17943"
      },
      "execution_count": null,
      "outputs": [
        {
          "output_type": "stream",
          "name": "stdout",
          "text": [
            "Requirement already satisfied: memory-profiler in /usr/local/lib/python3.10/dist-packages (0.61.0)\n",
            "Requirement already satisfied: psutil in /usr/local/lib/python3.10/dist-packages (from memory-profiler) (5.9.5)\n",
            "ERROR: Could not find file <ipython-input-8-c8d935ced58a>\n",
            "NOTE: %mprun can only be used on functions defined in physical files, and not in the IPython environment.\n",
            "List created with 10,000 numbers.\n",
            "Total sum: 49995000\n",
            "Extended the list to 20,000 elements.\n"
          ]
        }
      ]
    },
    {
      "cell_type": "markdown",
      "source": [
        "17.Write a Python program to create and write a list of numbers to a file, one number per line ?"
      ],
      "metadata": {
        "id": "VOgyg5dL5DUa"
      }
    },
    {
      "cell_type": "code",
      "source": [
        "# List of numbers\n",
        "numbers = [1, 2, 3, 4, 5, 6, 7, 8, 9, 10]\n",
        "\n",
        "# Open the file in write mode\n",
        "with open('numbers.txt', 'w') as file:\n",
        "    # Write each number to the file, one per line\n",
        "    for number in numbers:\n",
        "        file.write(f\"{number}\\n\")\n",
        "\n",
        "print(\"Numbers have been written to 'numbers.txt'.\")\n"
      ],
      "metadata": {
        "id": "I38wY0mj5LI_",
        "colab": {
          "base_uri": "https://localhost:8080/"
        },
        "outputId": "4108abf3-6ee8-451d-e808-4cb114214ce7"
      },
      "execution_count": null,
      "outputs": [
        {
          "output_type": "stream",
          "name": "stdout",
          "text": [
            "Numbers have been written to 'numbers.txt'.\n"
          ]
        }
      ]
    },
    {
      "cell_type": "markdown",
      "source": [
        "18.  How would you implement a basic logging setup that logs to a file with rotation after 1Mb ?\n",
        "\n",
        "You can implement a basic logging setup with log rotation after the file reaches 1 MB using Python's logging module and RotatingFileHandler. Here's how:\n",
        "\n"
      ],
      "metadata": {
        "id": "9XvDRPO88qoo"
      }
    },
    {
      "cell_type": "code",
      "source": [
        "import logging\n",
        "from logging.handlers import RotatingFileHandler\n",
        "\n",
        "# Configure logging with RotatingFileHandler\n",
        "log_file = \"app.log\"\n",
        "logging.basicConfig(\n",
        "    level=logging.DEBUG,\n",
        "    format=\"%(asctime)s - %(levelname)s - %(message)s\",\n",
        "    handlers=[\n",
        "        RotatingFileHandler(log_file, maxBytes=1_000_000, backupCount=5)  # 1 MB max size, keep 5 backups\n",
        "    ]\n",
        ")\n",
        "\n",
        "# Example logging messages\n",
        "logging.debug(\"Debug message\")\n",
        "logging.info(\"Info message\")\n",
        "logging.warning(\"Warning message\")\n",
        "logging.error(\"Error message\")\n",
        "logging.critical(\"Critical message\")\n",
        "\n",
        "print(\"Logging setup with rotation is active.\")\n"
      ],
      "metadata": {
        "id": "aiYcwDpn8-Ao",
        "colab": {
          "base_uri": "https://localhost:8080/"
        },
        "outputId": "2787e7a3-984e-4b0c-b0bf-30a1a895f2d8"
      },
      "execution_count": null,
      "outputs": [
        {
          "output_type": "stream",
          "name": "stderr",
          "text": [
            "WARNING:root:Warning message\n",
            "ERROR:root:Error message\n",
            "CRITICAL:root:Critical message\n"
          ]
        },
        {
          "output_type": "stream",
          "name": "stdout",
          "text": [
            "Logging setup with rotation is active.\n"
          ]
        }
      ]
    },
    {
      "cell_type": "markdown",
      "source": [
        "19. Write a program that handles both IndexError and KeyError using a try-except block ?"
      ],
      "metadata": {
        "id": "jBKGI8nQ9Dkc"
      }
    },
    {
      "cell_type": "code",
      "source": [
        "try:\n",
        "    # Attempt to access an invalid list index\n",
        "    my_list = [1, 2, 3]\n",
        "    print(my_list[5])  # This will raise an IndexError\n",
        "\n",
        "    # Attempt to access a non-existent key in a dictionary\n",
        "    my_dict = {'a': 1, 'b': 2}\n",
        "    print(my_dict['c'])  # This will raise a KeyError\n",
        "\n",
        "except IndexError:\n",
        "    print(\"Error: List index out of range.\")\n",
        "\n",
        "except KeyError:\n",
        "    print(\"Error: Key not found in the dictionary.\")\n",
        "\n",
        "except Exception as e:\n",
        "    print(f\"An unexpected error occurred: {e}\")\n"
      ],
      "metadata": {
        "id": "F8GhH3-b9YC_",
        "colab": {
          "base_uri": "https://localhost:8080/"
        },
        "outputId": "632affd8-db50-406a-b5b4-b70ee2b717eb"
      },
      "execution_count": null,
      "outputs": [
        {
          "output_type": "stream",
          "name": "stdout",
          "text": [
            "Error: List index out of range.\n"
          ]
        }
      ]
    },
    {
      "cell_type": "markdown",
      "source": [
        "20. How would you open a file and read its contents using a context manager in Python ?\n"
      ],
      "metadata": {
        "id": "OLfj9V4O9kqn"
      }
    },
    {
      "source": [
        "# Example: Reading a file's contents using a context manager\n",
        "file_path = \"example.txt\"\n",
        "\n",
        "# Check if the file exists before opening it\n",
        "import os\n",
        "if not os.path.exists(file_path):\n",
        "    print(f\"Error: The file '{file_path}' does not exist. Creating an empty file.\")\n",
        "    # Create an empty file if it doesn't exist\n",
        "    open(file_path, 'w').close()\n",
        "\n",
        "# Open the file in read mode and automatically handle closing it\n",
        "with open(file_path, \"r\") as file:\n",
        "    contents = file.read()\n",
        "\n",
        "# The file is now closed, and the contents are stored in the contents variable\n",
        "print(contents)"
      ],
      "cell_type": "code",
      "metadata": {
        "id": "ygzG_nWA1j-Y",
        "outputId": "08a9cac5-6b56-4474-c575-24af38f39730",
        "colab": {
          "base_uri": "https://localhost:8080/"
        }
      },
      "execution_count": null,
      "outputs": [
        {
          "output_type": "stream",
          "name": "stdout",
          "text": [
            "Error: The file 'example.txt' does not exist. Creating an empty file.\n",
            "\n"
          ]
        }
      ]
    },
    {
      "cell_type": "markdown",
      "source": [
        "21.Write a Python program that reads a file and prints the number of occurrences of a specific word ?"
      ],
      "metadata": {
        "id": "aZiKJyJF-QuY"
      }
    },
    {
      "cell_type": "code",
      "source": [
        "def count_word_occurrences(file_path, word_to_count):\n",
        "    \"\"\"\n",
        "    Counts the occurrences of a specific word in a file.\n",
        "\n",
        "    :param file_path: Path to the file to read.\n",
        "    :param word_to_count: Word to count occurrences of.\n",
        "    :return: Number of occurrences of the word.\n",
        "    \"\"\"\n",
        "    try:\n",
        "        with open(file_path, 'r', encoding='utf-8') as file:\n",
        "            content = file.read().lower()  # Convert content to lowercase for case-insensitive comparison\n",
        "            words = content.split()  # Split content into words\n",
        "            word_count = words.count(word_to_count.lower())\n",
        "            return word_count\n",
        "    except FileNotFoundError:\n",
        "        print(f\"Error: The file '{file_path}' was not found.\")\n",
        "        return None\n",
        "    except Exception as e:\n",
        "        print(f\"An error occurred: {e}\")\n",
        "        return None"
      ],
      "metadata": {
        "id": "QJfMGXtu-V1E"
      },
      "execution_count": null,
      "outputs": []
    },
    {
      "cell_type": "markdown",
      "source": [
        "22.How can you check if a file is empty before attempting to read its contents ?\n",
        "\n",
        "check if a file is empty before attempting to read its contents, you can use one of the following methods:\n",
        "\n",
        "1. Check File Size\n",
        "Use the file size property to determine if the file is empty.\n",
        "\n",
        "Python Example:"
      ],
      "metadata": {
        "id": "kZwYad-P-vBf"
      }
    },
    {
      "cell_type": "code",
      "source": [
        "import os\n",
        "\n",
        "file_path = \"example.txt\"\n",
        "\n",
        "if os.path.exists(file_path) and os.path.getsize(file_path) == 0:\n",
        "    print(\"The file is empty.\")\n",
        "else:\n",
        "    print(\"The file is not empty.\")"
      ],
      "metadata": {
        "id": "ScWpvyc4--4p",
        "colab": {
          "base_uri": "https://localhost:8080/"
        },
        "outputId": "4af99a1f-6459-4572-8fff-88a01e807edf"
      },
      "execution_count": null,
      "outputs": [
        {
          "output_type": "stream",
          "name": "stdout",
          "text": [
            "The file is not empty.\n"
          ]
        }
      ]
    },
    {
      "cell_type": "markdown",
      "source": [
        "2. Read the File's Contents\n",
        "Open the file and check if there's any content in it.\n",
        "\n",
        "Python Example:"
      ],
      "metadata": {
        "id": "b5Bd-T76_CQB"
      }
    },
    {
      "cell_type": "code",
      "source": [
        "file_path = \"example.txt\"\n",
        "\n",
        "with open(file_path, 'r') as file:\n",
        "    if file.read().strip() == \"\":\n",
        "        print(\"The file is empty.\")\n",
        "    else:\n",
        "        print(\"The file is not empty.\")"
      ],
      "metadata": {
        "id": "wLAhaE9x_I5o",
        "colab": {
          "base_uri": "https://localhost:8080/"
        },
        "outputId": "7f9ab925-7440-47d9-e1d8-891c961f4448"
      },
      "execution_count": 11,
      "outputs": [
        {
          "output_type": "stream",
          "name": "stdout",
          "text": [
            "The file is empty.\n"
          ]
        }
      ]
    },
    {
      "cell_type": "markdown",
      "source": [
        "3. Using Exception Handling (If File Might Not Exist)\n",
        "If the file might not exist, you can combine exception handling with the size check:\n",
        "\n",
        "Python Example:"
      ],
      "metadata": {
        "id": "c_LbMdnq_UGM"
      }
    },
    {
      "cell_type": "code",
      "source": [
        "file_path = \"example.txt\"\n",
        "\n",
        "try:\n",
        "    if os.path.getsize(file_path) == 0:\n",
        "        print(\"The file is empty.\")\n",
        "    else:\n",
        "        print(\"The file is not empty.\")\n",
        "except FileNotFoundError:\n",
        "    print(\"The file does not exist.\")"
      ],
      "metadata": {
        "id": "wlgr10P0_W35"
      },
      "execution_count": null,
      "outputs": []
    },
    {
      "cell_type": "markdown",
      "source": [
        "Here's a Python program that writes to a log file whenever an error occurs during file handling. This program uses Python's built-in logging module to manage error logging."
      ],
      "metadata": {
        "id": "IH0III2d_gdE"
      }
    },
    {
      "cell_type": "markdown",
      "source": [
        "23. Write a Python program that writes to a log file when an error occurs during file handling"
      ],
      "metadata": {
        "id": "XzJX_dsL_NQi"
      }
    },
    {
      "cell_type": "code",
      "source": [
        "import logging\n",
        "\n",
        "# Configure logging\n",
        "logging.basicConfig(\n",
        "    filename='error_log.log',\n",
        "    level=logging.ERROR,\n",
        "    format='%(asctime)s - %(levelname)s - %(message)s'\n",
        ")\n",
        "\n",
        "def handle_file(filename, mode, content=None):\n",
        "    \"\"\"\n",
        "    Handles file operations with error logging.\n",
        "\n",
        "    :param filename: Name of the file to operate on.\n",
        "    :param mode: Mode in which to open the file (e.g., 'r', 'w').\n",
        "    :param content: Content to write (only used for write mode).\n",
        "    \"\"\"\n",
        "    try:\n",
        "        if mode == 'r':\n",
        "            with open(filename, mode) as file:\n",
        "                data = file.read()\n",
        "                print(\"File content:\")\n",
        "                print(data)\n",
        "        elif mode == 'w':\n",
        "            if content is None:\n",
        "                raise ValueError(\"Content must be provided for write mode.\")\n",
        "            with open(filename, mode) as file:\n",
        "                file.write(content)\n",
        "                print(f\"Content written to {filename}.\")\n",
        "        else:\n",
        "            raise ValueError(\"Unsupported file mode. Use 'r' or 'w'.\")\n",
        "    except Exception as e:\n",
        "        logging.error(\"An error occurred during file handling.\", exc_info=True)\n",
        "        print(f\"An error occurred: {e}\")\n",
        "\n",
        "# Example Usage\n",
        "if _name_ == \"__"
      ],
      "metadata": {
        "id": "1HKOjrK8_QNA"
      },
      "execution_count": null,
      "outputs": []
    }
  ]
}